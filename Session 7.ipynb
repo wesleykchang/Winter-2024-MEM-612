{
 "cells": [
  {
   "cell_type": "markdown",
   "metadata": {},
   "source": [
    "# Session 7\n",
    "\n",
    "## Key topics from last time\n",
    "\n",
    "1. Natural convection: modified momentum equation\n",
    "- thermal expansion coefficient\n",
    "- nondimensional analysis\n",
    "- Raleigh and Grashof numbers\n",
    "- modified Raleigh number \n",
    "- integral solutions and relationship between Nu, Ra, Pr\n"
   ]
  },
  {
   "cell_type": "markdown",
   "metadata": {},
   "source": [
    "## Squire-Eckert prediction\n",
    "\n",
    "We found the Nu number to be proportional to $Ra_L^{1/4}$ from scaling analysis, which agreed with experimental data fitting of laminar flow down a vertical isothermal wall done by Churchill and Chu.\n",
    "\n",
    "Squire-Eckert analysis is done by solving the momentum and energy equations with integral methods, assuming the hydrodynamic and thermal boundary layers are the same thickness, and the temperature profile is a quadratic expression. No slip boundary conditions are used.\n",
    "\n",
    "The following expression is obtained: $\\frac{\\delta}{x}\\ =\\ 3.936(\\frac{0.952 + Pr}{Pr^2})^{1/4}\\frac{1}{Gr_x^{1/4}}$\n",
    "\n",
    "And $q\\ =\\ -k\\frac{\\partial T}{\\partial y}_{y=0}\\ =\\ -2k\\Delta T/\\delta$\n",
    "\n",
    "Since $Nu_x\\ =\\ hx/k$ and $q\\ =\\ h(T_w\\ -\\ T_\\infty)$, $Nu_x\\ =\\ \\frac{qx}{\\Delta T k}\\ =\\ 0.508 Ra_x^{1/4} (Pr/(0.952\\ +\\ Pr))^{1/4}$\n",
    "\n",
    "This is the local Nu number at a specific position along a vertical isothermal wall during laminar natural convection.\n",
    "\n",
    "Taking the average heat transfer coefficient: $\\overline{h}\\ =\\ \\frac{\\int _0^L q(x)dx}{L\\Delta T}$\n",
    "\n",
    "We get the average Nu number $\\overline{Nu}_L\\ =\\ \\overline{h}L/k\\ =\\ 4/3 Nu_x|_{x=L}\\ =\\ 0.678 Ra_L^{1/4}(Pr/(0.952\\ +\\ Pr))^{1/4}$\n",
    "\n",
    "This is within 1.2% of the Churchill-Chu correlation; it is accurate for large Pr (> 1) and laminar conditions with $Ra_L\\ <\\ 1E9$\n",
    "\n",
    "\n",
    "Example 1\n",
    "\n",
    "A thin walled metal tank contains fluid at 40 degrees C and cools in air at 14 degrees C. If sides are 0.4 meters high, determine the average heat transfer coefficient, average heat flux and boundary layer thickness at the top. \n",
    "\n",
    "a. determine properties at the film temperature $T_f\\ =\\ (40\\ +\\ 14)/2\\ =\\ 27$ deg C\n",
    "\n",
    "$\\beta$ determined at $1/T_\\infty$ [K]\n",
    "\n",
    "b. determine $Ra_L\\ =\\ g\\beta\\Delta TL^3/\\nu \\alpha\\ =\\ 1.625E8$ which corresponds to laminar flow\n",
    "\n",
    "c. thus, can use any of the previously mentioned expressions that are accurate for laminar flow along isothermal vertical wall to obtain $\\overline{Nu_L}$\n",
    "\n",
    "this is used to calculate the avg heat transfer coefficient $\\overline{h}\\ =\\ \\overline{Nu}_L * k/L$ [W/m^2K]\n",
    "\n",
    "d. which is then used to determine the average heat flux $\\overline{q}\\ =\\ \\overline{h} \\Delta T $ [W/m2]\n",
    "\n",
    "e. boundary layer thickness at the top is calculated from Squire-Eckert: \n",
    "\n",
    "$\\frac{\\delta}{x}\\ =\\ 3.936(\\frac{0.952 + Pr}{Pr^2})^{1/4}\\frac{1}{Gr_x^{1/4}}$\n",
    "\n",
    "\n",
    "\n",
    "\n",
    "\n"
   ]
  },
  {
   "cell_type": "markdown",
   "metadata": {},
   "source": [
    "## Natural convection with uniform heat flux\n",
    "\n",
    "Similar to the forced convection cases, we often have either isothermal or constant heat flux boundary conditions\n",
    "\n",
    "Since the change in temeperature is now variable, we want to eliminate it from the Rayleigh number\n",
    "\n",
    "We can multiply the Ra number by the Nu number: $Ra_x^*\\ =\\ Ra_xNu_x\\ =\\ g\\beta \\Delta T x^3/\\nu \\alpha * q_w x / \\Delta T k\\ =\\ g\\beta q_w x^4 / k\\nu \\alpha$ to get a modified Rayleigh number that does not have temperature dependence. "
   ]
  },
  {
   "attachments": {
    "image.png": {
     "image/png": "[encoded data removed]"
    }
   },
   "cell_type": "markdown",
   "metadata": {},
   "source": [
    "## Film condensation\n",
    " \n",
    " In film condensation, an isothermal vertical plate cools the adjacent vapor which then condenses into a liquid film on the wall which behaves like a boundary layer\n",
    "\n",
    " The temperature in this liquid film increases from $T_w$ at the cool wall to the saturation temperature $T_{sat}$ at the outer edge.\n",
    "\n",
    " For fluids with Pr around 1, most of the cooled or heated fluid also travels downward or upward, respectively, so the boundary layers are approximately equal. For large Pr fluids, additional unheated or uncooled fluid is also carried due to viscosity. \n",
    "\n",
    " The governing momentum equation for natural convection was: $u \\frac{\\partial u}{\\partial x}\\ +\\ v \\frac{\\partial u}{\\partial y}\\ =\\ (1\\ -\\ \\rho _\\infty/\\rho)g\\ +\\ \\nu \\frac{\\partial ^2 u}{\\partial y^2}$\n",
    "\n",
    " The only difference with film condensation is that the density is of the saturated vapor ($\\rho _g$) rather than the undisturbed fluid:\n",
    "\n",
    " $u \\frac{\\partial u}{\\partial x}\\ +\\ v \\frac{\\partial u}{\\partial y}\\ =\\ (1\\ -\\ \\rho _g/\\rho)g\\ +\\ \\nu \\frac{\\partial ^2 u}{\\partial y^2}$\n",
    "\n",
    " Energy equation is the same $u \\frac{\\partial T}{\\partial x}\\ +\\ v \\frac{\\partial T}{\\partial y}\\ =\\ \\alpha \\frac{\\partial ^2 T}{\\partial y^2}$\n",
    "\n",
    "\n",
    "The condensed liquid moves slowly, so inertia terms in the boundary layer momentum equation can be neglected:\n",
    "\n",
    "$0\\ =\\ (1\\ -\\ \\rho _g/\\rho _f)g\\ +\\ \\nu \\frac{\\partial ^2 u}{\\partial y^2}$\n",
    "\n",
    "rearranging: $\\frac{\\partial ^2 u}{\\partial y^2}\\ =\\ - \\frac{\\rho _f\\ -\\ \\rho _g}{\\rho _f} g/\\nu$\n",
    "\n",
    "similarly, convective terms in the boundary layer energy equation are neglected: $0\\ =\\ \\alpha \\frac{\\partial ^2 T}{\\partial y^2}$\n",
    "\n",
    "using boundary conditions: $u(y=0)\\ =\\ 0$ for no slip at the wall and $\\frac{\\partial u}{\\partial y}_{y=\\delta}\\ =\\ 0$ constant velocity at the edge of the film. The second bondary condition is different than in single phase natural convection which has a no slip condition due to the bulk fluid being undisturbed. Here, since there is no fluid at all outside the thin layer, we assume negligible shear at the edge of the film (so no velocity gradient)\n",
    "\n",
    "solving, we get $u\\ =\\ \\frac{(\\rho _f\\ -\\ \\rho_g)g\\delta^2}{2\\rho _f \\nu}[2(y/\\delta)\\ -\\ (y/\\delta)^2]$\n",
    "\n",
    "the boundary conditions for the energy equation are $T(y=0)\\ =\\ T_w$ and $T(y=\\delta)\\ =\\ T_{sat}$\n",
    "\n",
    "which gives $T\\ =\\ T_w\\ +\\ (T_{sat}\\ -\\ T_w)y/\\delta$\n",
    "\n",
    "\n",
    " ### Calculation of the boundary layer thickness\n",
    "\n",
    " The definition of the mass flow rate $\\dot{m}$ is $\\int _0^\\delta \\rho _f u dy$, which integrates a slice dy along the boundary layer $=\\ \\frac{g(\\rho _f\\ -\\ \\rho _g)}{3\\nu}\\delta ^3$\n",
    "\n",
    " The heat flux of the film as it is cooled is: $q\\ =\\ k\\frac{\\partial T}{\\partial y}|_{y=0}\\ =\\ k(T_{sat}\\ -\\ T_w)/\\delta\\ =\\ h_{fg} \\frac{d\\dot{m}}{dx}$\n",
    "\n",
    " substituting: $k(T_{sat}\\ -\\ T_w)/\\delta\\ =\\ (h_{fg}g(\\rho _f\\ -\\ \\rho _g)/\\nu) \\delta ^2 \\frac{d\\delta}{dx}$\n",
    "\n",
    " solving for $\\delta\\ =\\ [\\frac{4 \\nu k (T_{sat}\\ -\\ T_w)x}{g (\\rho _f\\ -\\ \\rho _g) h_{fg}}]^{1/4}$\n",
    "\n",
    " $h_{fg}$ is the latent heat associatedd with cooling the condensing film \n",
    "\n",
    " ![image.png](attachment:image.png)\n",
    "\n",
    " since $q\\ =\\ k\\frac{\\partial T}{\\partial y}|_{y=0}\\ =\\ k(T_{sat}\\ -\\ T_w)/\\delta$, $h\\ =\\ q/(T_{sat}\\ -\\ T_w)\\ =\\ k/\\delta$\n",
    "\n",
    " $Nu_x\\ =\\ hx/k\\ =\\ x/\\delta\\ =\\ 0.707 [\\frac{g(\\rho _f\\ -\\ \\rho _g)h_{fg}' x^3}{\\nu k (T_{sat}\\ -\\ T_w)}]^{1/4}$\n",
    "\n",
    " $h_{fg}'$ is a corrected value that accounts for the subcooling of the liquid film (there's sensible heat, or energy associated with the change in temperature, and then there's latent heat, which is the additional energy associated with the phase change from vapor to liquid)\n",
    "\n",
    "An expression for the latent heat correction is: $h_{fg}'\\ =\\ h_{fg} [1\\ +\\ (0.683\\ -\\ 0.228/Pr)Ja]$ where Ja is the Jakob number: $\\frac{c_p (T_{sat}\\ -\\ T_w)}{h_{fg}}$, which describes the maximum sensible heat absorbed by the condensed liquid, relative to the latent heat absorbed due to the vapor to liquid phase change. The sensible heat is usually less than 2% of the latent heat."
   ]
  },
  {
   "cell_type": "markdown",
   "metadata": {},
   "source": [
    "# Problem Set 6\n",
    "\n",
    "1. Determine the average heat transfer coefficient for constant vertical wall (x) temperature natural convection, in terms of the heat transfer coefficient at x = L (h). Show steps. \n",
    "\n",
    "2. We determined an expression for the boundary layer thickness of a condensing film down a laminar vertical wall, from the mass flow rate integration. Now consider a laminar liquid film that flows down a wall also at the saturated vapor temperature, with film thickness $\\delta _0$. At some distance down the wall (x = 0), the wall temperature drops to a lower $T_w$ and kept at that lower temperature. Neglecting any transition behavior, determine the boundary layer thickness $\\delta (x)$, $Nu_x$, and $Nu_L$ (the Nusselt number at x = L, the bottom of the wall), starting from our derived expression $k (T_{sat}\\ -\\ T_w)/\\delta\\ =\\ \\frac{h_{fg}g(\\rho _f\\ -\\ \\rho _g)}{\\nu} \\delta ^2 d\\delta/dx $"
   ]
  },
  {
   "cell_type": "markdown",
   "metadata": {},
   "source": [
    "Other practice problems\n",
    "\n",
    "Bejan 4.10\n",
    "\n",
    "L&L 8.6, 8.10, 8.19, 8.23 (use ammonia), 8.31"
   ]
  }
 ],
 "metadata": {
  "language_info": {
   "name": "python"
  }
 },
 "nbformat": 4,
 "nbformat_minor": 2
}
