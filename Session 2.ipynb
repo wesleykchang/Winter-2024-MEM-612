{
 "cells": [
  {
   "cell_type": "markdown",
   "metadata": {},
   "source": [
    "# Session 2: Forced Convection\n",
    "\n",
    "## Key topics from last session\n",
    "\n",
    "1. Boundary layer thickness\n",
    "2. Non-dimensional numbers: Re, Pr, Nu\n",
    "3. Fourier's law of heat conduction, general energy equation \n",
    "4. Laminar vs turbulent flow\n",
    "\n",
    "## External vs internal flows\n",
    "\n",
    "Unlike internal flows, such as flow in a confined pipe, external flows are not bound by constraints and the boundary layer can develop freely. The simplest example is parallel flow along a flate plate. At the leading edge (x=0), laminar flow occurs, followed by a transition to turbulence at  downstream location when a critical Reynolds number is reached. \n",
    "\n",
    "\n"
   ]
  },
  {
   "cell_type": "markdown",
   "metadata": {},
   "source": [
    "## Scaling Analysis\n",
    "\n",
    "It is important to remember that boundary layer theory is an approximation. In short, the boundary layer is a distinct region from the free stream, as Prandtl first suggested. \n",
    "\n",
    "Consider the mass continuity equation $\\frac{\\partial u}{\\partial x}\\ +\\ \\frac{\\partial v}{\\partial y}\\ =\\ 0 $\n",
    "\n",
    "where $u\\ =\\ U_\\infty$, $P\\ =\\ P_\\infty$, $T\\ =\\ T_\\infty$\n",
    "\n",
    "so, $\\frac{U_\\infty}{L}\\ \\sim \\frac{v}{\\delta}$ \n",
    "\n",
    "Consider the momentum equation in the x-direction: $u\\frac{\\partial u}{\\partial x}\\ +\\ v\\frac{\\partial u}{\\partial y}\\ =\\ -\\frac{1}{\\rho} \\frac{dP}{dx}\\ +\\ \\nu(\\frac{\\partial^2u}{\\partial x^2}\\ +\\ \\frac{\\partial ^2u}{\\partial y^2})$\n",
    "\n",
    "Since $\\delta << L$, $\\frac{\\partial ^2 u}{\\partial y^2} >> \\frac{\\partial ^2u}{\\partial x^2}$, and we assume the pressure variation in the y direction is negligible vs the x direction: $\\frac{\\partial P}{\\partial x}\\ =\\ \\frac{dP}{dx}$,\n",
    "\n",
    "$u\\frac{\\partial u}{\\partial x}\\ +\\ v\\frac{\\partial u}{\\partial y}\\ =\\ -\\frac{1}{\\rho} \\frac{dP_\\infty}{dx}\\ +\\ v\\frac{\\partial ^2 u}{\\partial y^2}$\n",
    "\n",
    "*at the boundary layer, due to the scaling relationships, $\\frac{\\partial ^2}{\\partial x^2}$ terms can be approximated to be zero, making it easier to solve.\n",
    "\n",
    "### Shear stress at the wall\n",
    "\n",
    "Shear stress at the wall is expressed as: $\\tau\\ =\\ \\mu (\\frac{\\partial u}{\\partial y})_{y=0}$, otherwise known as \"skin friction.\" Think of this as molecules near the wall sticking, causing other neighboring molecules to also interact, collide and slow down. This is why walls exert a shear stress against the free stream direction.\n",
    "\n",
    "Scaling analysis tells us: $\\tau\\ \\sim \\mu U_\\infty/\\delta$\n",
    "\n",
    "from the boundary layer momentum equation: $\\frac{U_\\infty^2}{L}\\ \\sim\\ \\frac{vU_\\infty}{\\delta}\\ \\sim\\ \\frac{\\nu U_\\infty}{\\delta^2}$\n",
    "\n",
    "therefore, $\\delta\\ \\sim\\ (\\frac{\\nu L}{U_\\infty})^{1/2}$ and $\\frac{\\delta}{L}\\ \\sim\\ (\\frac{\\nu}{U_\\infty L})^{1/2}\\ =\\ Re_L^{-1/2}$\n",
    "\n",
    "$Re_L\\ =\\ \\frac{U_\\infty L}{\\nu}$ (Reynold's number)\n",
    "\n",
    "this scaling analysis shows how boundary layer approximation is only valid (i.e. $\\delta << L$) for $Re_L^{1/2} >> 1$. For example, if L is very short and on the same length scale as $\\delta$, $Re_L$ is low and the boundary layer solution fails. In this regime, there are too many entrance effects. \n",
    "\n",
    "The Reynolds number is a non-dimensional geometric parameter that describes the flow region., or the ratio of the total wall length to the boundary layer thickness. \n",
    "\n",
    "\n",
    "### Thermal boundary layer\n",
    "\n",
    "Now we consider the thermal boundary layer (i.e. temperature, not velocity).\n",
    "\n",
    "Case 1: Thick thermal boundary layer ($\\delta _T\\ >>\\ \\delta$)\n",
    "\n",
    "Do a scaling analysis of the boundary layer energy equation: $u\\frac{\\partial T}{\\partial x}\\ +\\ v\\frac{\\partial T}{\\partial y}\\ =\\ \\alpha \\frac{\\partial^2 T}{\\partial y^2}$\n",
    "\n",
    "$u\\frac{\\Delta T}{L}\\ \\sim\\ v\\frac{\\Delta T}{\\delta _T}$\n",
    "\n",
    "from mass continuity: $\\frac{v}{\\delta}\\ \\sim\\ \\frac{U_\\infty}{L}$\n",
    "\n",
    "therefore, $v \\frac{\\Delta T}{\\delta _T}\\ \\sim\\ \\frac{U_\\infty \\delta}{L}\\frac{\\Delta T}{\\delta _t}$ which is effectively $\\frac{U_\\infty \\Delta T}{L}$ scaled by $\\delta / \\delta _T$\n",
    "\n",
    "Point is that the two terms in the boundary layer energy equation (the x and y components of temperature) differ by the ratio of the mass and thermal boundary layers.\n",
    "\n",
    "Also, since convection is balanced by conduction at the wall, we can compare scale to the conduction term: $\\frac{U_\\infty \\Delta T \\delta}{L \\delta _T}\\ \\sim\\ \\alpha \\frac{\\Delta T}{\\delta _T^2}$\n",
    "\n",
    "Written in terms of $\\frac{\\delta _T}{L}\\ \\sim\\ (\\frac{\\alpha}{U_\\infty L})^{1/2}$ which is also $Pe^{-1/2}$ (Peclet number)\n",
    "\n",
    "Comparing this to the earlier \n",
    "\n",
    "\n",
    "\n",
    "\n"
   ]
  },
  {
   "cell_type": "markdown",
   "metadata": {},
   "source": [
    "## Forced Convection: laminar flows in pipes\n",
    "\n",
    "First we consider the development of a laminar velocity profile in a pipe. A boundary layer builds up and eventually occupies the entire flow area. This becomes a \"fully developed\" flow when $\\frac{du}{dx}\\ =\\ 0$ (u is velocity). For fully developed flows, the temperature profile should not change with x. Instead, the temperature profile simply follows $T_w\\ -\\ T_b$ where $T_w$ is the wall temperature and $T_b$ is the bulk temperature. \n",
    "\n"
   ]
  }
 ],
 "metadata": {
  "language_info": {
   "name": "python"
  }
 },
 "nbformat": 4,
 "nbformat_minor": 2
}
