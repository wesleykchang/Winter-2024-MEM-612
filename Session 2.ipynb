{
 "cells": [
  {
   "cell_type": "markdown",
   "metadata": {},
   "source": [
    "# Session 2: Forced Convection\n",
    "\n",
    "## Key topics from last session\n",
    "\n",
    "1. Boundary layer thickness\n",
    "2. Non-dimensional numbers: Re, Pr, Nu\n",
    "3. Fourier's law of heat conduction, general energy equation \n",
    "4. Laminar vs turbulent flow\n",
    "\n",
    "## External vs internal flows\n",
    "\n",
    "Unlike internal flows, such as flow in a confined pipe, external flows are not bound by constraints and the boundary layer can develop freely. The simplest example is parallel flow along a flate plate. At the leading edge (x=0), laminar flow occurs, followed by a transition to turbulence at  downstream location when a critical Reynolds number is reached. \n",
    "\n",
    "\n"
   ]
  },
  {
   "cell_type": "markdown",
   "metadata": {},
   "source": [
    "## Forced Convection: laminar flows in pipes\n",
    "\n",
    "First we consider the development of a laminar velocity profile in a pipe. A boundary layer builds up and eventually occupies the entire flow area. This becomes a \"fully developed\" flow when $\\frac{du}{dx}\\ =\\ 0$ (u is velocity). For fully developed flows, the temperature profile should not change with x. Instead, the temperature profile simply follows $T_w\\ -\\ T_b$ where $T_w$ is the wall temperature and $T_b$ is the bulk temperature. \n",
    "\n"
   ]
  }
 ],
 "metadata": {
  "language_info": {
   "name": "python"
  }
 },
 "nbformat": 4,
 "nbformat_minor": 2
}
