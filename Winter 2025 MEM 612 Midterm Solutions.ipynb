{
 "cells": [
  {
   "cell_type": "markdown",
   "metadata": {},
   "source": [
    "Total points: 12 \n",
    "\n",
    "4 pts per problem (each problem has two parts, so 2 pts per part)\n",
    "\n",
    "-1 pt if major conceptual error \n",
    "-0.5 pt if minor error\n",
    "no pts deducted if well explained and major conceptual understanding shown but with very minor mathematical mistake\n"
   ]
  },
  {
   "cell_type": "markdown",
   "metadata": {},
   "source": [
    "1.\tCold water undergoes laminar flow with constant velocity ($u_{av}$) in a circular tube as it is being heated by the wall ($T_w$). The temperature profile of the fluid is approximated as: $T(r) = T_w + B[1 – r/r_0]$ where B is a constant and r0 is the radius. \n",
    "a.\tWhat is the average (bulk) temperature? \n",
    "b.\tWhat is the Nusselt number? \n",
    "\n",
    "\n",
    "a) Recall that $T_b\\ =\\ \\frac{\\int _0^R \\rho c_p u T dA}{\\dot{m}c_p}\\ =\\ \\frac{\\int _0^R \\rho c_p u T dA}{\\int _0^R \\rho c_p u dA}$ for the mixing cup (bulk) temperature\n",
    "Since density, specific heat and velocity are all constant: $T_b\\ =\\ \\frac{\\int _0^{r_0} 2\\pi r dr}{\\pi r^2}\\ =\\ T_w\\ +\\ 1/3 B$\n",
    "\n",
    "(+1) use the correct expression for the bulk temperature, which is from the average enthalpy for a fluid flowing through a cross section of the tube/pipe \n",
    "(+1) calculation of the bulk temperature (small mathematical errors ignored)\n",
    "\n",
    "b) At the wall, $q\\ =\\ h(T_w\\ -\\ T_{bulk})\\ =\\ kdT/dr_{r=r_0}$\n",
    "\n",
    "$h\\ =\\ \\frac{k(-B/r_0)}{T_w\\ -\\ T_b}\\ =\\ \\frac{-kB/r_0}{-1/3 B}\\ =\\ 3k/r_0$\n",
    "\n",
    "$Nu\\ =\\ hL/k\\ =\\ h(2r_0)/k\\ =\\ 6$\n",
    "\n",
    "(+1) use the heat flux balance at the wall to calculate the heat transfer coefficient, using the given temperature profile \n",
    "(+1) from the heat transfer coefficient, determine Nu, which should be a constant (6). Note that this differs from the value of Nu for a standard fully developed laminar incompressible flow in a pipe (with Tw = constant) because the temperature profile here is an arbitrarily determined profile. Note that if Nu = 3.66 is given and justified (for constant Tw), that was counted as correct as well. \n"
   ]
  },
  {
   "cell_type": "markdown",
   "metadata": {},
   "source": [
    "2. We discussed average heat transfer coefficients for two different cases of laminar flow over a flat plate: constant wall temperature and constant wall heat flux. \n",
    "    By approximately how much does the average heat transfer coefficient differ for the two cases?\n",
    "    For the case with constant heat flux, at what distance down the plate (x/L) where L is the full length, is the local temperature the same as the average plate temperature?  \n",
    "\n",
    "a. We recognize that the average heat transfer coefficient ($\\overline{h}$) is related to the average Nusselt number, for which there are two different relationships for each of the constant wall temperature and constant wall heat flux cases. \n",
    "\n",
    "The two expressions are: \n",
    "\n",
    "$\\overline{Nu}_L\\ =\\ 0.664 Re_L^{1/2}Pr^{1/3}$ for constant wall temperature for a flat plate\n",
    "\n",
    "$\\overline{Nu}_L\\ =\\ 0.688 Re_L^{1/2}Pr^{1/3}$ for constant wall heat flux \n",
    "\n",
    "since $\\overline{Nu}\\ =\\ \\overline{h}L/k$\n",
    "\n",
    "divide one expression by the other to find the ratio of the average heat transfer coefficients for the two cases: 0.664/0.688 = 0.965\n",
    "\n",
    "(+2) show how h is related to Nu, and use the average Nu expressions. \n",
    "\n",
    "\n",
    "the average heat transfer coefficient for the constant wall temperature plate is 96.5% of the average heat transfer coefficient for the constant wall heat flux plate. \n",
    "\n",
    "b. we want to find the distance down the plate (x/L, where L is the full length), where the temperature at that distance is equal to the average plate temperature (for the constant heat flux case)\n",
    "\n",
    "first, recall the expression relating heat transfer coefficient to heat flux and temperature (see course github notes Session 3, or the text): $\\overline{h}\\ =\\ q_w/\\Delta T\\ =\\ q_w/(\\overline{T}\\ -\\ T_\\infty)$ for average values, and $h(x)\\ =\\ q_w/(\\Delta T)\\ =\\ q_w/(T(x)\\ -\\ T_\\infty)$ for local values\n",
    "\n",
    "plug in the above expression for average heat transfer coefficient for constant heat flux: $\\overline{T}\\ -\\ T_\\infty\\ =\\ q_w/\\overline{h}\\ =\\ q_w L/k / (0.688 Re_L^{1/2}Pr^{1/3})$\n",
    "\n",
    "similarly solve for $T(x)\\ -\\ T_\\infty\\ =\\ q_w/h(x)$ given the Nusselt number expression for constant wall heat flux: $Nu_x\\ =\\ 0.4587 Re_x^{1/2}Pr^{1/3}$ for Pr > 0.7\n",
    "\n",
    "setting the two expressions equal, and solving for x/L: $x / (0.4587x^{1/2})\\ =\\ L/(0.688 L^{1/2})$\n",
    "\n",
    "$x/L\\ =\\ (0.4587/0.688)^2\\ =\\ 0.445$\n",
    "\n",
    "so, the average heat transfer coefficient will be equal to the local temperature at slightly less than halfway down the plate\n",
    "\n",
    "\n",
    "(+2) show how average plate temperature relates to average heat transfer coefficient\n"
   ]
  },
  {
   "cell_type": "markdown",
   "metadata": {},
   "source": [
    "3. Consider laminar water flow at 20 degrees C over a flat plate with the following temperature profile: $\\theta\\ =\\ a\\ +\\ b(y/\\delta _t)$ where $\\theta\\ =\\ (T\\ -\\ T_w)/(T_\\infty\\ -\\ T_w)$. The boundary conditions are: $T\\ =\\ T_{wall}$ at y = 0 and $T\\ =\\ T_\\infty$ at $y\\ =\\ \\delta _t$. Determine the convective heat transfer coefficient h and the Nusselt number at x = 1 meters. \n",
    "\n",
    "$\\theta$ is a non-dimensional temperature variable, writing in terms of T: $(T\\ -\\ T_w)/(T_\\infty\\ -\\ T_w)\\ =\\ a\\ +\\ b(y/\\delta _t)$\n",
    "\n",
    "Plugging in boundary conditions:\n",
    "a = 0, b = 1\n",
    "\n",
    "find the temperature profile:\n",
    "$T\\ =\\ y/\\delta _t(T_\\infty\\ -\\ T_w)\\ +\\ T_w$\n",
    "\n",
    "Consider the boundary condition at the wall (heat transfer purely by conduction in the wall, and Newton’s law of cooling)\n",
    "$h(T_w\\ -\\ T_\\infty)\\ =\\ -k(dT/dy)$\n",
    "\n",
    "$h(T_w\\ -\\ T_\\infty)\\ =\\ -k(T_\\infty\\ -\\ T_w)b/\\delta _t$\n",
    "\n",
    "Find Nu:\n",
    "$Nu\\ =\\ hL/k\\ =\\ 1/\\delta _t$\n",
    "\n",
    "(+2) find the correct temperature profile and use the right boundary conditions\n",
    "\n",
    "(+1) show method for determination of h\n",
    "\n",
    "(+1) show method for determining Nu \n"
   ]
  }
 ],
 "metadata": {
  "language_info": {
   "name": "python"
  }
 },
 "nbformat": 4,
 "nbformat_minor": 2
}
