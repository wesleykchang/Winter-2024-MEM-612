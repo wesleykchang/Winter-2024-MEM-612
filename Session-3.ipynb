{
 "cells": [
  {
   "cell_type": "markdown",
   "metadata": {},
   "source": [
    "## Session 3\n",
    "\n",
    "Forced Convection\n",
    "\n",
    "Slide 2: last time we discussed turbulent flow, invoking relationships between the Nu, Pr and Re dimensionless numbers. Laminar flow eventually transitions into turbulent flow, and we see for steady laminar flows that the power law relationship between the Nu and Re number changes as a result. Increasingly, we turn to computational methods, such as finite difference methods in COMSOL, to solve for the temperature profile for turbulent heat transfer cases. We used COMSOL to look at a simple example of laminar flow in a tube with a heated rod to determine how the heated rod affects the temperature profile of a flowing fluid (water). \n",
    "\n",
    "Slide 4-5: recall the general equations from chapter 6. the continuity equation is derived from the conservation of mass. given a control volume, any mass that enters must also exit. we have the conservation of momentum, which gets us the following equation with some simplifications: we assume velocity changes are mostly in the radial or perpendicular directio to flow, we assume flow is primarily in the forward (x direction), we assume pressure gradients only exist in the x direction if at all. lastly, we have the energy equation, and for fully developed flows we're typically looking at the steady-state case. \n",
    "\n",
    "Slide 6: \n",
    "Figure 7.1 (p. 351) depicts the development of a laminar steady-state velocity profile at the entrance of a pipe. According to the continuity equation, the mass flow rate is constant through the length of the pipe (mass entering an incompressible volume should also exit it). Over a cross-sectional area of the pipe, the average velocity is also constant. As the boundary layer builds up from the front, it causes the velocity at the center of the pipe to be faster than the velocity near the surface. Once the flow is fully developed, it should exhibit a steady velocity profile. At every radial point, du/dx is 0 and v = 0. \n",
    "\n",
    "Slide 7: to justify some of the assumptions we can make for laminar velocity profiles, we can do a quick scaling analysis. consider the continuity equation. now, say y scales with D where D is the diameter or distance between the tube walls, x scales with L or the length of the tube, and u scales with the bulk fluid velocity in the x direction. we see that if we are far enough down the tube, then v should be negligible.\n",
    "\n",
    "Slide 8: so, if we're in the fully developed regime, the temperature profile should be the exact same at every x position. the profile is parabolic for a pipe or tube, because the boundary layers on either side cause the fluid near the walls to flow at a slower velocity. \n",
    "\n"
   ]
  }
 ],
 "metadata": {
  "language_info": {
   "name": "python"
  }
 },
 "nbformat": 4,
 "nbformat_minor": 2
}
