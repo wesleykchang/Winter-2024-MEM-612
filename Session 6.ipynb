{
 "cells": [
  {
   "cell_type": "markdown",
   "metadata": {},
   "source": [
    "# Session 6\n",
    "\n",
    "## Key topics from last time\n",
    "\n",
    "1. Natural convection: modified momentum equation\n",
    "- thermal expansion coefficient\n",
    "- nondimensional analysis\n",
    "- Raleigh and Grashof numbers\n",
    "- modified Raleigh number \n",
    "- integral solutions and relationship between Nu, Ra, Pr\n"
   ]
  },
  {
   "cell_type": "markdown",
   "metadata": {},
   "source": [
    "## Film condensation\n"
   ]
  },
  {
   "cell_type": "markdown",
   "metadata": {},
   "source": [
    "# Problem Set 6\n",
    "\n"
   ]
  }
 ],
 "metadata": {
  "language_info": {
   "name": "python"
  }
 },
 "nbformat": 4,
 "nbformat_minor": 2
}
